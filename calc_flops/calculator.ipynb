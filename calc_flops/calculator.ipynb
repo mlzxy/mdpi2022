{
 "cells": [
  {
   "cell_type": "code",
   "execution_count": 1,
   "metadata": {},
   "outputs": [],
   "source": [
    "%load_ext autoreload\n",
    "%autoreload 2"
   ]
  },
  {
   "cell_type": "code",
   "execution_count": 1,
   "metadata": {},
   "outputs": [],
   "source": [
    "import torch\n",
    "\n",
    "from torchinfo import summary\n",
    "from tabulate import tabulate\n",
    "import torchvision.models as models\n",
    "from pprint import pprint"
   ]
  },
  {
   "cell_type": "code",
   "execution_count": 2,
   "metadata": {},
   "outputs": [],
   "source": [
    "from mobilenet import MobileNet\n",
    "from mobilenetv2 import MobileNetV2\n",
    "from resnet import *\n",
    "from densenet import DenseNet3\n",
    "from pre_resnet import *\n",
    "from lenet import LeNet\n",
    "from vgg import VGG\n",
    "from wrn import *\n",
    "from pytorch_modelsize import *\n",
    "from densenet2 import *\n",
    "from resnet_cifar10 import resnet20, resnet32, resnet56, resnet110\n",
    "from resnet_cifar10_sequential import resnet20 as resnet20_seq, resnet32 as resnet32_seq\n",
    "from resnet164 import resnet_164, resnet_110\n",
    "from react_resnet import Network as PreActResNet\n",
    "# the only concern is the MobileNet, however\n",
    "# 1. we don't need to compare against them, they don't even report a quantization bit width. and don't even known whether they quantize their feature? \n",
    "# 2. their result doesn't seem so trustworthy\n",
    "# 3. their paper is only an arxiv one.\n",
    "# 4. we just need to redo our experiment with mobilenet, then we definitely beat them.\n",
    "\n",
    "# 91.44"
   ]
  },
  {
   "cell_type": "code",
   "execution_count": 26,
   "metadata": {},
   "outputs": [
    {
     "ename": "AttributeError",
     "evalue": "module 'torchvision.models' has no attribute 'Mob'",
     "output_type": "error",
     "traceback": [
      "\u001b[0;31m---------------------------------------------------------------------------\u001b[0m",
      "\u001b[0;31mAttributeError\u001b[0m                            Traceback (most recent call last)",
      "\u001b[0;32m/var/folders/n5/1z0bthqx1899ypl4ljb_ynw00000gn/T/ipykernel_97331/865365385.py\u001b[0m in \u001b[0;36m<module>\u001b[0;34m\u001b[0m\n\u001b[0;32m----> 1\u001b[0;31m \u001b[0mmodels\u001b[0m\u001b[0;34m.\u001b[0m\u001b[0mMob\u001b[0m\u001b[0;34m\u001b[0m\u001b[0;34m\u001b[0m\u001b[0m\n\u001b[0m",
      "\u001b[0;31mAttributeError\u001b[0m: module 'torchvision.models' has no attribute 'Mob'"
     ]
    }
   ],
   "source": [
    "models.Mob"
   ]
  },
  {
   "cell_type": "code",
   "execution_count": 3,
   "metadata": {},
   "outputs": [
    {
     "name": "stdout",
     "output_type": "stream",
     "text": [
      "| Wide-Resnet 22x8\n",
      "\n",
      "\n",
      "\n",
      "Network        # Params    # Features    FLOPS\n",
      "-------------  ----------  ------------  -------\n",
      "lenet          0.25M       0.05M         0.66M\n",
      "mobilenetv2    9.19M       27.60M        91.19M\n",
      "mobilenet      12.87M      6.59M         46.38M\n",
      "resnet20       1.09M       3.21M         40.81M\n",
      "resnet32       1.87M       5.05M         69.13M\n",
      "resnet56       3.42M       8.72M         125.75M\n",
      "resnet110      6.92M       16.97M        253.16M\n",
      "resnet20_seq   1.09M       3.21M         40.81M\n",
      "resnet32_seq   1.87M       5.05M         69.13M\n",
      "densenet100    4.84M       53.34M        376.87M\n",
      "densenet76     2.98M       35.32M        239.64M\n",
      "densenet40     1.00M       14.36M        88.00M\n",
      "densenet121    6.53M       68.99M        498.75M\n",
      "pre_resnet110  6.92M       16.88M        253.16M\n",
      "pre_resnet164  10.42M      25.13M        380.56M\n",
      "vgg11          36.92M      2.42M         152.93M\n",
      "vgg13          37.66M      4.00M         228.52M\n",
      "vgg16          58.91M      4.42M         313.49M\n",
      "vgg19          80.16M      4.85M         398.45M\n",
      "wrn-22-8       68.66M      28.84M        2.91G\n"
     ]
    }
   ],
   "source": [
    "results = {}\n",
    "\n",
    "for name, net in [\n",
    "                    ('lenet', LeNet()),\n",
    "                    ('mobilenetv2', MobileNetV2()), \n",
    "                    ('mobilenet', MobileNet()),\n",
    "                    ('resnet20', resnet20()),\n",
    "                    ('resnet32', resnet32()),\n",
    "                    ('resnet56', resnet56()),\n",
    "                    ('resnet110', resnet110()),\n",
    "                    ('resnet20_seq', resnet20_seq()),\n",
    "                    ('resnet32_seq', resnet32_seq()),\n",
    "                    ('densenet100', DenseNet3(100, 10, reduction=1.0)),\n",
    "                    ('densenet76', DenseNet3(76, 10, reduction=1.0)),\n",
    "                    ('densenet40', DenseNet3(40, 12, reduction=1.0)),\n",
    "                    ('densenet121', DenseNet3(121, 10, reduction=1.0)),\n",
    "                    ('pre_resnet110', PreActResNet(110)),\n",
    "                    ('pre_resnet164', PreActResNet(164)),\n",
    "                    ('vgg11', VGG('VGG11')),\n",
    "                    ('vgg13', VGG('VGG13')),\n",
    "                    ('vgg16', VGG('VGG16')),\n",
    "                    ('vgg19', VGG('VGG19')),\n",
    "                    ('wrn-22-8', Wide_ResNet(22, 8,0,10))\n",
    "                 ]:\n",
    "    s = summary(net, (1, 3, 32, 32))\n",
    "    macs = s.to_readable(s.total_mult_adds)\n",
    "    results[name] = {\n",
    "        \"# Params\": f'{s.float_to_megabytes(s.total_params):.02f}M', \n",
    "        \"# Features\": f'{s.float_to_megabytes(s.total_output):.02f}M', \n",
    "        \"FLOPS\": f'{macs[1]:.02f}{macs[0]}',\n",
    "        'stat': {\n",
    "            'w': s.total_params,\n",
    "            'f': s.total_output \n",
    "        }\n",
    "    }\n",
    "\n",
    "s = tabulate([[k, v['# Params'], v[\"# Features\"], v[\"FLOPS\"]]  for k, v in results.items()], headers=[\"Network\", \"# Params\", \"# Features\", \"FLOPS\"])\n",
    "print(\"\\n\\n\")\n",
    "print(s)"
   ]
  },
  {
   "cell_type": "code",
   "execution_count": 5,
   "metadata": {},
   "outputs": [],
   "source": [
    "def get_mem(net, wbits, fbits, wsp, fsp):\n",
    "    stat = results[net]['stat']\n",
    "#     print(stat)\n",
    "    return stat['w'] * wbits * (1-wsp), stat['f'] * fbits * (1-fsp)\n",
    "\n",
    "def nice_p(*args):\n",
    "    param, feat = args[0]\n",
    "    pd = args[1]\n",
    "    print(f'{param/ 1e6:0.02f} & {feat/ 1e6:0.02f} & {pd * 1e6:0.02f}')"
   ]
  },
  {
   "cell_type": "code",
   "execution_count": 6,
   "metadata": {},
   "outputs": [
    {
     "name": "stdout",
     "output_type": "stream",
     "text": [
      "1.98 & 0.42 & 28.12\n"
     ]
    }
   ],
   "source": [
    "v = get_mem('lenet', 32, 32, 0, 0)# / 1e6 \n",
    "    \n",
    "nice_p(v, 67.52/sum(v))"
   ]
  },
  {
   "cell_type": "code",
   "execution_count": 13,
   "metadata": {},
   "outputs": [
    {
     "name": "stdout",
     "output_type": "stream",
     "text": [
      "0.83 & 20.19 & 4.41\n"
     ]
    }
   ],
   "source": [
    "#(Choi et al., 2016)\n",
    "v = get_mem('resnet32', 8, 16, 0.778, 0) #/ 1e6 \n",
    "\n",
    "nice_p(v, 92.64/sum(v))"
   ]
  },
  {
   "cell_type": "code",
   "execution_count": 14,
   "metadata": {},
   "outputs": [
    {
     "name": "stdout",
     "output_type": "stream",
     "text": [
      "0.68 & 141.26 & 0.64\n"
     ]
    }
   ],
   "source": [
    "# (Achterhold et al., 2018)\n",
    "\n",
    "v = get_mem('densenet76', 2, 16, 0.54, 0)# / 1e6 \n",
    "    \n",
    "nice_p(v, 91.17/sum(v))"
   ]
  },
  {
   "cell_type": "code",
   "execution_count": 15,
   "metadata": {},
   "outputs": [
    {
     "name": "stdout",
     "output_type": "stream",
     "text": [
      "16.03 & 19.40 & 2.63\n"
     ]
    }
   ],
   "source": [
    "  # (Liu et al., 2018) 1\n",
    "    \n",
    "v = get_mem('vgg19', 16, 16, 0.95, 0) \n",
    "\n",
    "nice_p(v, 93.34/sum(v))"
   ]
  },
  {
   "cell_type": "code",
   "execution_count": 16,
   "metadata": {},
   "outputs": [
    {
     "name": "stdout",
     "output_type": "stream",
     "text": [
      "1.38 & 67.50 & 1.34\n"
     ]
    }
   ],
   "source": [
    "  # (Liu et al., 2018) 2\n",
    "    \n",
    "v = get_mem('pre_resnet110', 16, 16, 0.95, 0)# / 1e6 \n",
    "\n",
    "nice_p(v, 92.53/sum(v))"
   ]
  },
  {
   "cell_type": "code",
   "execution_count": 17,
   "metadata": {},
   "outputs": [
    {
     "name": "stdout",
     "output_type": "stream",
     "text": [
      "0.97 & 213.37 & 0.44\n"
     ]
    }
   ],
   "source": [
    "  # (Liu et al., 2018) 3\n",
    "    \n",
    "v = get_mem('densenet100', 16, 16, 0.95, 0) #/ 1e6 \n",
    "\n",
    "nice_p(v, 94.19/sum(v))"
   ]
  },
  {
   "cell_type": "code",
   "execution_count": 18,
   "metadata": {},
   "outputs": [
    {
     "name": "stdout",
     "output_type": "stream",
     "text": [
      "70.70 & 5.31 & 1.23\n"
     ]
    }
   ],
   "source": [
    "  # (Liu et al., 2018) 4\n",
    "\n",
    "v = get_mem('vgg16', 16, 16, 0.7, 0.7) \n",
    "\n",
    "nice_p(v, 93.6/sum(v))"
   ]
  },
  {
   "cell_type": "code",
   "execution_count": 19,
   "metadata": {},
   "outputs": [
    {
     "name": "stdout",
     "output_type": "stream",
     "text": [
      "16.67 & 40.21 & 1.66\n"
     ]
    }
   ],
   "source": [
    "  # (Liu et al., 2018) 5\n",
    "\n",
    "v = get_mem('pre_resnet164', 16, 16, 0.6, 0.6) \n",
    "\n",
    "nice_p(v, 94.23/sum(v))"
   ]
  },
  {
   "cell_type": "code",
   "execution_count": 20,
   "metadata": {},
   "outputs": [
    {
     "name": "stdout",
     "output_type": "stream",
     "text": [
      "1.60 & 22.97 & 3.82\n"
     ]
    }
   ],
   "source": [
    "  # (Liu et al., 2018) 6\n",
    "\n",
    "v = get_mem('densenet40', 16, 16, 0.6, 0.6) #/ 1e6 \n",
    "    \n",
    "nice_p(v, 93.87/sum(v))"
   ]
  },
  {
   "cell_type": "code",
   "execution_count": 21,
   "metadata": {},
   "outputs": [
    {
     "name": "stdout",
     "output_type": "stream",
     "text": [
      "1.60 & 22.97 & 3.79\n"
     ]
    }
   ],
   "source": [
    "# n43_zhao2019variational 1\n",
    "\n",
    "v = get_mem('densenet40', 16, 16, 0.6, 0.6) #/ 1e6 \n",
    "    \n",
    "nice_p(v, 93.16/sum(v))"
   ]
  },
  {
   "cell_type": "code",
   "execution_count": 22,
   "metadata": {},
   "outputs": [
    {
     "name": "stdout",
     "output_type": "stream",
     "text": [
      "2.70 & 7.96 & 8.59\n"
     ]
    }
   ],
   "source": [
    "# n43_zhao2019variational 2\n",
    "\n",
    "v = get_mem('resnet20', 16, 16, 0.38, 0.38)  #(Yang et al., 2020)\n",
    "\n",
    "nice_p(v, 91.66/sum(v))"
   ]
  },
  {
   "cell_type": "code",
   "execution_count": 23,
   "metadata": {},
   "outputs": [
    {
     "name": "stdout",
     "output_type": "stream",
     "text": [
      "7.53 & 19.18 & 3.45\n"
     ]
    }
   ],
   "source": [
    "# n43_zhao2019variational 3\n",
    "\n",
    "v = get_mem('resnet56', 16, 16, 0.45, 0.45)  #(Yang et al., 2020)\n",
    "\n",
    "nice_p(v, 92.26/sum(v))"
   ]
  },
  {
   "cell_type": "code",
   "execution_count": 24,
   "metadata": {},
   "outputs": [
    {
     "name": "stdout",
     "output_type": "stream",
     "text": [
      "10.25 & 25.12 & 2.63\n"
     ]
    }
   ],
   "source": [
    "# n43_zhao2019variational 4\n",
    "\n",
    "v = get_mem('resnet110', 16, 16, 0.63, 0.63)  #(Yang et al., 2020)\n",
    "\n",
    "nice_p(v,  92.96/sum(v))"
   ]
  },
  {
   "cell_type": "code",
   "execution_count": 25,
   "metadata": {},
   "outputs": [
    {
     "name": "stdout",
     "output_type": "stream",
     "text": [
      "49.96 & 3.75 & 1.70\n"
     ]
    }
   ],
   "source": [
    "v = get_mem('vgg16', 16, 16, 0.788, 0.788)  #(Xiao & Wang, 2019)\n",
    "\n",
    "nice_p(v, 91.5/sum(v))"
   ]
  },
  {
   "cell_type": "code",
   "execution_count": 26,
   "metadata": {},
   "outputs": [
    {
     "name": "stdout",
     "output_type": "stream",
     "text": [
      "11.78 & 17.70 & 3.15\n"
     ]
    }
   ],
   "source": [
    "#(Dettmers & Zettlemoyer, 2019)  1\n",
    "\n",
    "v = get_mem('vgg16', 16, 16, 0.95, 0) #/ 1e6 \n",
    "\n",
    "nice_p(v, 93/sum(v))"
   ]
  },
  {
   "cell_type": "code",
   "execution_count": 27,
   "metadata": {},
   "outputs": [
    {
     "name": "stdout",
     "output_type": "stream",
     "text": [
      "13.73 & 115.34 & 0.74\n"
     ]
    }
   ],
   "source": [
    "#(Dettmers & Zettlemoyer, 2019)  2\n",
    "v = get_mem('wrn-22-8', 16, 16, 0.95, 0) #/ 1e6 \n",
    "\n",
    "nice_p(v, 95.07/sum(v))"
   ]
  },
  {
   "cell_type": "code",
   "execution_count": 28,
   "metadata": {},
   "outputs": [
    {
     "name": "stdout",
     "output_type": "stream",
     "text": [
      "0.24 & 12.85 & 6.97\n"
     ]
    }
   ],
   "source": [
    "v = get_mem('resnet20', 1.9, 16, 0.54, 0)  #(Yang et al., 2020)\n",
    "\n",
    "nice_p(v, 91.15/sum(v))"
   ]
  },
  {
   "cell_type": "code",
   "execution_count": 36,
   "metadata": {},
   "outputs": [
    {
     "name": "stdout",
     "output_type": "stream",
     "text": [
      "43.85 & 3.27 & 1.98\n"
     ]
    }
   ],
   "source": [
    "v = get_mem('vgg11', 4.75, 5.4, 0, 0)  #(van Baalen et al., 2020)\n",
    "\n",
    "nice_p(v, 93.23/sum(v))"
   ]
  },
  {
   "cell_type": "code",
   "execution_count": 37,
   "metadata": {},
   "outputs": [
    {
     "name": "stdout",
     "output_type": "stream",
     "text": [
      "25.74 & 13.17 & 2.33\n"
     ]
    }
   ],
   "source": [
    "v = get_mem('mobilenet', 8, 8, 0, 0)  #(Paupamah et al., 2020a)\n",
    "\n",
    "nice_p(v, 90.59/sum(v))"
   ]
  },
  {
   "cell_type": "code",
   "execution_count": 29,
   "metadata": {},
   "outputs": [
    {
     "name": "stdout",
     "output_type": "stream",
     "text": [
      "0.47 & 20.19 & 4.48\n"
     ]
    }
   ],
   "source": [
    "#(Choi et al., 2020)\n",
    "v = get_mem('resnet32', 8, 16, 0.875, 0) #/ 1e6 \n",
    "    \n",
    "nice_p(v, 92.57/sum(v))"
   ]
  },
  {
   "cell_type": "markdown",
   "metadata": {},
   "source": [
    "------------"
   ]
  },
  {
   "cell_type": "code",
   "execution_count": 39,
   "metadata": {},
   "outputs": [
    {
     "name": "stdout",
     "output_type": "stream",
     "text": [
      "1.87 & 5.05 & 13.04\n"
     ]
    }
   ],
   "source": [
    "# ours 1\n",
    "v = get_mem('resnet32', 8, 8, 0.5, 0.5) #/ 1e6 \n",
    "    \n",
    "nice_p(v, 90.16/sum(v))"
   ]
  },
  {
   "cell_type": "code",
   "execution_count": 40,
   "metadata": {},
   "outputs": [
    {
     "name": "stdout",
     "output_type": "stream",
     "text": [
      "0.93 & 2.52 & 24.21\n"
     ]
    }
   ],
   "source": [
    "# ours 2\n",
    "v = get_mem('resnet32', 8, 8, 0.75, 0.75) #/ 1e6 \n",
    "    \n",
    "nice_p(v, 83.7/sum(v))"
   ]
  },
  {
   "cell_type": "code",
   "execution_count": 41,
   "metadata": {},
   "outputs": [
    {
     "name": "stdout",
     "output_type": "stream",
     "text": [
      "0.93 & 2.52 & 25.25\n"
     ]
    }
   ],
   "source": [
    "# ours 3\n",
    "v = get_mem('resnet32', 4, 4, 0.5, 0.5) #/ 1e6 \n",
    "    \n",
    "nice_p(v, 87.3/sum(v))"
   ]
  },
  {
   "cell_type": "code",
   "execution_count": 42,
   "metadata": {},
   "outputs": [
    {
     "name": "stdout",
     "output_type": "stream",
     "text": [
      "0.47 & 1.26 & 45.82\n"
     ]
    }
   ],
   "source": [
    "# ours 4\n",
    "v = get_mem('resnet32', 4, 4, 0.75, 0.75) #/ 1e6 \n",
    "    \n",
    "nice_p(v, 79.2/sum(v))"
   ]
  },
  {
   "cell_type": "code",
   "execution_count": 9,
   "metadata": {},
   "outputs": [
    {
     "name": "stdout",
     "output_type": "stream",
     "text": [
      "2.24 & 6.06 & 11.06\n"
     ]
    }
   ],
   "source": [
    "# ours 4\n",
    "v = get_mem('resnet32', 8, 8, 0.4, 0.4) #/ 1e6 \n",
    "    \n",
    "nice_p(v, 91.77/sum(v))"
   ]
  },
  {
   "cell_type": "code",
   "execution_count": 10,
   "metadata": {},
   "outputs": [
    {
     "name": "stdout",
     "output_type": "stream",
     "text": [
      "2.80 & 7.57 & 8.92\n"
     ]
    }
   ],
   "source": [
    "v = get_mem('resnet32', 8, 8, 0.25, 0.25) #/ 1e6 \n",
    "    \n",
    "nice_p(v, 92.53/sum(v))"
   ]
  },
  {
   "cell_type": "code",
   "execution_count": 12,
   "metadata": {},
   "outputs": [],
   "source": [
    "# v = get_mem('resnet32', 8, 8, 0, 0) #/ 1e6 \n",
    "    \n",
    "# nice_p(v, 92.53/sum(v))"
   ]
  },
  {
   "cell_type": "code",
   "execution_count": null,
   "metadata": {},
   "outputs": [],
   "source": []
  },
  {
   "cell_type": "code",
   "execution_count": null,
   "metadata": {},
   "outputs": [],
   "source": []
  },
  {
   "cell_type": "code",
   "execution_count": null,
   "metadata": {},
   "outputs": [],
   "source": []
  },
  {
   "cell_type": "code",
   "execution_count": null,
   "metadata": {},
   "outputs": [],
   "source": []
  },
  {
   "cell_type": "code",
   "execution_count": null,
   "metadata": {},
   "outputs": [],
   "source": []
  },
  {
   "cell_type": "code",
   "execution_count": null,
   "metadata": {},
   "outputs": [],
   "source": []
  },
  {
   "cell_type": "code",
   "execution_count": null,
   "metadata": {},
   "outputs": [],
   "source": []
  },
  {
   "cell_type": "code",
   "execution_count": null,
   "metadata": {},
   "outputs": [],
   "source": []
  },
  {
   "cell_type": "code",
   "execution_count": null,
   "metadata": {},
   "outputs": [],
   "source": []
  },
  {
   "cell_type": "markdown",
   "metadata": {},
   "source": [
    "# Performance Density for Cifar10"
   ]
  },
  {
   "cell_type": "code",
   "execution_count": 55,
   "metadata": {},
   "outputs": [
    {
     "data": {
      "text/plain": [
       "0.31465248121762546"
      ]
     },
     "execution_count": 55,
     "metadata": {},
     "output_type": "execute_result"
    }
   ],
   "source": [
    " 92.6 / sum(get_mem('mobilenetv2', 32, 32, 0, 0)) * 1e6"
   ]
  },
  {
   "cell_type": "code",
   "execution_count": 56,
   "metadata": {},
   "outputs": [
    {
     "data": {
      "text/plain": [
       "0.4995725438279609"
      ]
     },
     "execution_count": 56,
     "metadata": {},
     "output_type": "execute_result"
    }
   ],
   "source": [
    "91.87/ sum(get_mem('mobilenetv2', 32, 32, 0, 0.5)) * 1e6"
   ]
  },
  {
   "cell_type": "code",
   "execution_count": 57,
   "metadata": {},
   "outputs": [
    {
     "data": {
      "text/plain": [
       "1.9889371245293894"
      ]
     },
     "execution_count": 57,
     "metadata": {},
     "output_type": "execute_result"
    }
   ],
   "source": [
    "91.44 / sum(get_mem('mobilenetv2', 8, 8, 0, 0.5)) * 1e6"
   ]
  },
  {
   "cell_type": "code",
   "execution_count": 58,
   "metadata": {},
   "outputs": [
    {
     "data": {
      "text/plain": [
       "2.3606411636232045"
      ]
     },
     "execution_count": 58,
     "metadata": {},
     "output_type": "execute_result"
    }
   ],
   "source": [
    " 86.84  / sum(get_mem('mobilenetv2', 8, 8, 0.5, 0.5) ) * 1e6"
   ]
  },
  {
   "cell_type": "code",
   "execution_count": 59,
   "metadata": {},
   "outputs": [
    {
     "data": {
      "text/plain": [
       "1.3347716686217639"
      ]
     },
     "execution_count": 59,
     "metadata": {},
     "output_type": "execute_result"
    }
   ],
   "source": [
    "85.94 / sum(get_mem('mobilenetv2', 8, 8, 0.5, 0) )*1e6"
   ]
  },
  {
   "cell_type": "code",
   "execution_count": null,
   "metadata": {},
   "outputs": [],
   "source": []
  }
 ],
 "metadata": {
  "kernelspec": {
   "display_name": "Python 3 (ipykernel)",
   "language": "python",
   "name": "python3"
  },
  "language_info": {
   "codemirror_mode": {
    "name": "ipython",
    "version": 3
   },
   "file_extension": ".py",
   "mimetype": "text/x-python",
   "name": "python",
   "nbconvert_exporter": "python",
   "pygments_lexer": "ipython3",
   "version": "3.9.5"
  }
 },
 "nbformat": 4,
 "nbformat_minor": 4
}
